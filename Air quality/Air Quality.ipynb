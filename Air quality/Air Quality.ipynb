{
 "cells": [
  {
   "cell_type": "code",
   "execution_count": 1,
   "id": "10ce10f8-5afe-4efc-b8ca-6a308762f1a0",
   "metadata": {},
   "outputs": [
    {
     "name": "stdout",
     "output_type": "stream",
     "text": [
      "Mean Squared Error: 0.0016\n"
     ]
    }
   ],
   "source": [
    "import pandas as pd\n",
    "import numpy as np\n",
    "from sklearn.model_selection import train_test_split\n",
    "from sklearn.linear_model import LinearRegression\n",
    "from sklearn.metrics import mean_squared_error\n",
    "\n",
    "# Load dataset\n",
    "df = pd.read_csv('AirQualityUCI.csv', sep=',', encoding='utf-8-sig')\n",
    "\n",
    "# Drop unnamed or empty columns\n",
    "df = df.loc[:, ~df.columns.str.contains('^Unnamed')]\n",
    "\n",
    "# a. Data Cleaning\n",
    "# Replace missing values denoted by -200 with NaN\n",
    "df.replace(-200, np.nan, inplace=True)\n",
    "\n",
    "# Drop rows where target variable is missing\n",
    "df.dropna(subset=['CO(GT)'], inplace=True)\n",
    "\n",
    "# Fill other missing values with column mean\n",
    "df.fillna(df.mean(numeric_only=True), inplace=True)\n",
    "\n",
    "# Convert 'Date' and 'Time' to datetime\n",
    "df['Datetime'] = pd.to_datetime(df['Date'] + ' ' + df['Time'], dayfirst=True)\n",
    "df.drop(['Date', 'Time'], axis=1, inplace=True)\n",
    "\n",
    "# b. Data Integration\n",
    "# (Already integrated in one file, just setting datetime as index)\n",
    "df.set_index('Datetime', inplace=True)\n",
    "\n",
    "# c. Data Transformation\n",
    "# Normalize numeric columns for model input\n",
    "from sklearn.preprocessing import MinMaxScaler\n",
    "scaler = MinMaxScaler()\n",
    "scaled_columns = df.columns\n",
    "df[scaled_columns] = scaler.fit_transform(df[scaled_columns])\n",
    "\n",
    "# d. Data Model Building\n",
    "# Predict 'CO(GT)' based on other features\n",
    "X = df.drop('CO(GT)', axis=1)\n",
    "y = df['CO(GT)']\n",
    "\n",
    "# Train-test split\n",
    "X_train, X_test, y_train, y_test = train_test_split(X, y, test_size=0.2, random_state=42)\n",
    "\n",
    "# Linear Regression model\n",
    "model = LinearRegression()\n",
    "model.fit(X_train, y_train)\n",
    "\n",
    "# Predict and evaluate\n",
    "y_pred = model.predict(X_test)\n",
    "mse = mean_squared_error(y_test, y_pred)\n",
    "print(f'Mean Squared Error: {mse:.4f}')\n",
    "\n",
    "# e. Error Correcting (basic)\n",
    "# Clip predictions to 0–1 (since scaled)\n",
    "y_pred_corrected = np.clip(y_pred, 0, 1)\n",
    "\n",
    "# You could also reverse normalization for real-world interpretation if needed\n"
   ]
  },
  {
   "cell_type": "code",
   "execution_count": null,
   "id": "11130bae-8717-43ba-b345-93d8d0c45ba3",
   "metadata": {},
   "outputs": [],
   "source": []
  }
 ],
 "metadata": {
  "kernelspec": {
   "display_name": "Python 3 (ipykernel)",
   "language": "python",
   "name": "python3"
  },
  "language_info": {
   "codemirror_mode": {
    "name": "ipython",
    "version": 3
   },
   "file_extension": ".py",
   "mimetype": "text/x-python",
   "name": "python",
   "nbconvert_exporter": "python",
   "pygments_lexer": "ipython3",
   "version": "3.12.7"
  }
 },
 "nbformat": 4,
 "nbformat_minor": 5
}
